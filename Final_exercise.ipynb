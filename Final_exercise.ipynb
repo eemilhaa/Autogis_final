{
 "cells": [
  {
   "cell_type": "code",
   "execution_count": null,
   "metadata": {},
   "outputs": [],
   "source": [
    "# Imports\n",
    "import pandas as pd\n",
    "import geopandas as gpd\n",
    "from pyproj import CRS\n",
    "import matplotlib.pyplot as plt\n",
    "import contextily as ctx\n",
    "import osmnx as ox\n",
    "import networkx as nx\n",
    "from shapely.geometry import LineString, Point, Polygon, MultiPoint\n",
    "from shapely.ops import nearest_points\n",
    "from shapely.ops import unary_union\n",
    "from shapely import speedups\n",
    "from geopy.geocoders import Nominatim\n",
    "from geopandas.tools import geocode\n",
    "from geopy.extra.rate_limiter import RateLimiter\n",
    "import datetime\n",
    "\n",
    "%matplotlib inline"
   ]
  },
  {
   "cell_type": "markdown",
   "metadata": {},
   "source": [
    "## 1.\n",
    "Travel times\n",
    "\n",
    "Functioning locations: \n",
    "- Yliopistonkatu 3 = Porthania\n",
    "- Haartmaninkatu 8 = Meilahti\n",
    "- Gustaf Hällströmin katu 2 = Kumpula\n",
    "- Viikinkaari 11 = Viikki"
   ]
  },
  {
   "cell_type": "code",
   "execution_count": null,
   "metadata": {},
   "outputs": [],
   "source": [
    "epsg=3067"
   ]
  },
  {
   "cell_type": "code",
   "execution_count": null,
   "metadata": {},
   "outputs": [],
   "source": [
    "# Test addresses\n",
    "#orig_address = 'Radiokuja 6, 00240, Helsinki, Finland'\n",
    "#dest_address = 'Väinö Auerin katu 13, 00560, Helsinki, Finland'\n",
    "\n",
    "# Test addresses2 and transportation method\n",
    "#orig_address = 'Yliopistonkatu 3, 00100, Helsinki, Finland'\n",
    "#dest_address = 'Haartmaninkatu 8, 00290, Helsinki, Finland'\n",
    "#transport_method = 'walk'\n",
    "\n",
    "# Addresses and transportation method with user input\n",
    "orig_address = str(input('Origin address:')+', Helsinki, Finland')\n",
    "dest_address = str(input('Destination address:')+', Helsinki, Finland')\n",
    "transport_method = str(input('transportation method (walk, bike, public, or car):'))\n",
    "\n",
    "# Geocode addresses\n",
    "orig_point = geocode(orig_address, provider='nominatim', user_agent='autogis_EH', timeout=10)\n",
    "dest_point = geocode(dest_address, provider='nominatim', user_agent='autogis_EH', timeout=10)\n",
    "\n",
    "# Project to ETRS-TM35FIN\n",
    "orig_point = orig_point.to_crs(epsg=epsg)\n",
    "dest_point = dest_point.to_crs(epsg=epsg)"
   ]
  },
  {
   "cell_type": "code",
   "execution_count": null,
   "metadata": {},
   "outputs": [],
   "source": [
    "# Reading in the YKR grid\n",
    "fp_grid = r'data/YKR/MetropAccess_YKR_grid_EurefFIN.shp'\n",
    "grid = gpd.read_file(fp_grid)\n",
    "\n",
    "# Checking projections\n",
    "if grid.crs == orig_point.crs == dest_point.crs:\n",
    "    print('data is correctly projected')\n",
    "else:\n",
    "    print('projections do not match')"
   ]
  },
  {
   "cell_type": "code",
   "execution_count": null,
   "metadata": {},
   "outputs": [],
   "source": [
    "# Defining centroids for the YKR grid\n",
    "\n",
    "# Dataframe for centroids\n",
    "grid_centroids = gpd.GeoDataFrame()\n",
    "\n",
    "# Defining a centroid for every grid cell\n",
    "grid_centroids['geometry'] = gpd.points_from_xy(grid.x, grid.y)\n",
    "\n",
    "# Keeping the YKR_ID for data selection\n",
    "grid_centroids['YKR_ID'] = grid['YKR_ID']\n",
    "\n",
    "# Results\n",
    "grid_centroids.head()"
   ]
  },
  {
   "cell_type": "code",
   "execution_count": null,
   "metadata": {},
   "outputs": [],
   "source": [
    "# Function for getting the YKR_ID value of the nearest cell centroid\n",
    "def get_nearest_values(row, other_gdf, point_column='geometry', value_column='geometry'):\n",
    "    \"\"\"Find the nearest point and return the corresponding value from specified value column.\"\"\"\n",
    "    \n",
    "    # Create an union of the other GeoDataFrame's geometries:\n",
    "    other_points = other_gdf['geometry'].unary_union\n",
    "    \n",
    "    # Find the nearest points\n",
    "    nearest_geoms = nearest_points(row[point_column], other_points)\n",
    "    \n",
    "    # Get corresponding values from the other df\n",
    "    nearest_data = other_gdf.loc[other_gdf['geometry'] == nearest_geoms[1]]\n",
    "    \n",
    "    nearest_value = nearest_data[value_column].values[0]\n",
    "    \n",
    "    return nearest_value"
   ]
  },
  {
   "cell_type": "code",
   "execution_count": null,
   "metadata": {},
   "outputs": [],
   "source": [
    "# Applying the function \n",
    "\n",
    "# Finding closest centroid to orig_point \n",
    "orig_point['YKR_ID'] = orig_point.apply(\n",
    "    get_nearest_values,\n",
    "    other_gdf=grid_centroids,\n",
    "    point_column='geometry',\n",
    "    value_column='YKR_ID',\n",
    "    axis=1\n",
    "    )\n",
    "\n",
    "# Finding closest centroid to dest_point\n",
    "dest_point['YKR_ID'] = dest_point.apply(\n",
    "    get_nearest_values,\n",
    "    other_gdf=grid_centroids,\n",
    "    point_column='geometry',\n",
    "    value_column='YKR_ID',\n",
    "    axis=1\n",
    "    )\n",
    "\n",
    "# Assigning YKR_IDs to variables\n",
    "#orig_YKR = orig_point.loc[0, 'YKR_ID']\n",
    "#dest_YKR = dest_point.loc[0, 'YKR_ID']\n",
    "\n",
    "orig_YKR = orig_point['YKR_ID'].iloc[0]\n",
    "dest_YKR = dest_point['YKR_ID'].iloc[0]\n",
    "print(orig_YKR, dest_YKR)"
   ]
  },
  {
   "cell_type": "code",
   "execution_count": null,
   "metadata": {},
   "outputs": [],
   "source": [
    "# Select apprpriate travel time data based on dest_point's YKR_ID\n",
    "fp_tt = r'data/traveltimes/travel_times_to_ '+str(dest_YKR)+'.txt'\n",
    "\n",
    "# Read in data\n",
    "tt_data = pd.read_csv(fp_tt, sep=';', na_values=['-1'])\n",
    "\n",
    "# Merge travel time data to YKR grid and drop na values\n",
    "tt_grid = grid.merge(tt_data, on=tt_data['from_id'])\n",
    "tt_grid = tt_grid.dropna()\n",
    "tt_grid.columns"
   ]
  },
  {
   "cell_type": "code",
   "execution_count": null,
   "metadata": {},
   "outputs": [],
   "source": [
    "# Get travel time from orig_point to dest_point\n",
    "time_cell = tt_grid.loc[tt_grid['YKR_ID']==orig_YKR]\n",
    "\n",
    "if transport_method == 'walk':\n",
    "    column = 'walk_t'\n",
    "if transport_method == 'bike':\n",
    "    column = 'bike_s_t'\n",
    "if transport_method == 'public':\n",
    "    column = 'pt_r_t'\n",
    "if transport_method == 'car':\n",
    "    column = 'car_r_t'\n",
    "\n",
    "travel_time = time_cell[column].iloc[0]\n",
    "travel_time"
   ]
  },
  {
   "cell_type": "code",
   "execution_count": null,
   "metadata": {},
   "outputs": [],
   "source": [
    "# ETA\n",
    "time_now = datetime.datetime.utcnow()+datetime.timedelta(hours=2)\n",
    "\n",
    "eta = time_now + datetime.timedelta(minutes=travel_time)\n",
    "print('Time now: '+\n",
    "      str(round(time_now.hour, 2))+\n",
    "      ':'+\n",
    "      str(round(time_now.minute, 2))+\n",
    "      '\\n\\nEstimated time of arrival: '+\n",
    "      str(eta.hour)+\n",
    "      ':'+\n",
    "      str(eta.minute)\n",
    "     )"
   ]
  },
  {
   "cell_type": "markdown",
   "metadata": {},
   "source": [
    "## 2.\n",
    "Path"
   ]
  },
  {
   "cell_type": "code",
   "execution_count": null,
   "metadata": {},
   "outputs": [],
   "source": [
    "# orig and dest points to wgs\n",
    "orig_point_wgs = orig_point.to_crs(epsg=4326)\n",
    "dest_point_wgs = dest_point.to_crs(epsg=4326)\n",
    "\n",
    "# Combine the dest and orig points\n",
    "extent_points = orig_point_wgs.append(dest_point_wgs)\n",
    "\n",
    "# Create a convex hull\n",
    "graph_extent = extent_points.unary_union.convex_hull\n",
    "\n",
    "# Conditional buffer to limit network size for walking and cycling\n",
    "if transport_method == 'walk':\n",
    "    buffer = 0.01\n",
    "if transport_method == 'bike':\n",
    "    buffer = 0.01\n",
    "if transport_method == 'public':\n",
    "    buffer = 0.03\n",
    "if transport_method == 'car':\n",
    "    buffer = 0.03\n",
    "\n",
    "graph_extent = graph_extent.buffer(buffer)\n",
    "\n",
    "# Check results\n",
    "graph_extent"
   ]
  },
  {
   "cell_type": "code",
   "execution_count": null,
   "metadata": {},
   "outputs": [],
   "source": [
    "# Select OSM network type conditionally\n",
    "if transport_method == 'walk':\n",
    "    network = 'walk'\n",
    "if transport_method == 'bike':\n",
    "    network = 'bike'\n",
    "if transport_method == 'public':\n",
    "    network = 'drive'\n",
    "if transport_method == 'car':\n",
    "    network = 'drive'\n",
    "\n",
    "# Get graph\n",
    "graph = ox.graph_from_polygon(graph_extent, network_type=network)"
   ]
  },
  {
   "cell_type": "code",
   "execution_count": null,
   "metadata": {},
   "outputs": [],
   "source": [
    "# Project graph to UTM zone 35\n",
    "graph_utm = ox.project_graph(graph)\n",
    "nodes_utm, edges_utm = ox.graph_to_gdfs(graph_utm, nodes=True, edges=True)\n",
    "\n",
    "# Project points to UTM zone 35\n",
    "orig_point_utm = orig_point.to_crs(edges_utm.crs)\n",
    "dest_point_utm = dest_point.to_crs(edges_utm.crs)"
   ]
  },
  {
   "cell_type": "code",
   "execution_count": null,
   "metadata": {},
   "outputs": [],
   "source": [
    "edges_utm.plot()"
   ]
  },
  {
   "cell_type": "code",
   "execution_count": null,
   "metadata": {},
   "outputs": [],
   "source": [
    "# Creating GDF with a line column for the route\n",
    "routes = gpd.GeoDataFrame()\n",
    "routes['geometry'] = None\n",
    "\n",
    "# Select origin y and x\n",
    "orig_yx = (orig_point_utm['geometry'].iloc[0].y, orig_point_utm['geometry'].iloc[0].x)\n",
    "# Get node id\n",
    "orig_node_id = ox.get_nearest_node(graph_utm, orig_yx, method='euclidean')\n",
    "# Get node\n",
    "orig_node = nodes_utm.loc[orig_node_id]\n",
    "\n",
    "# Select destination y and x\n",
    "dest_yx = (dest_point_utm['geometry'].iloc[0].y, dest_point_utm['geometry'].iloc[0].x)\n",
    "# Get node id\n",
    "dest_node_id = ox.get_nearest_node(graph_utm, dest_yx, method='euclidean')\n",
    "# Get node\n",
    "dest_node = nodes_utm.loc[dest_node_id]\n",
    "\n",
    "# Only calculate route when the start and destination node IDs are different\n",
    "if dest_node_id != orig_node_id:\n",
    "    # Get shortest path\n",
    "    route = nx.shortest_path(graph_utm, source=orig_node_id, target=dest_node_id, weight='length')\n",
    "    # Get route nodes\n",
    "    route_nodes = nodes_utm.loc[route]\n",
    "    # Construct route line\n",
    "    route_line = LineString(list(route_nodes.geometry.values))\n",
    "    # Add line to lines column\n",
    "    routes.at[0, 'geometry'] = route_line"
   ]
  },
  {
   "cell_type": "markdown",
   "metadata": {},
   "source": [
    "Tests"
   ]
  },
  {
   "cell_type": "code",
   "execution_count": null,
   "metadata": {},
   "outputs": [],
   "source": [
    "# Cells to gdf\n",
    "orig_cell = gpd.GeoDataFrame()\n",
    "dest_cell = gpd.GeoDataFrame()\n",
    "\n",
    "orig_cell = grid.loc[grid['YKR_ID']==orig_YKR]\n",
    "dest_cell = grid.loc[grid['YKR_ID']==dest_YKR]"
   ]
  },
  {
   "cell_type": "code",
   "execution_count": null,
   "metadata": {},
   "outputs": [],
   "source": [
    "fig, ax = plt.subplots(figsize=(20,15))\n",
    "\n",
    "#grid.plot(ax=ax, facecolor=[0.9,0.9,0.9], edgecolor=[0.7,0.7,0.7])\n",
    "#tt_grid.plot(ax=ax, column='pt_r_t', cmap='RdYlBu')\n",
    "\n",
    "#orig_cell.plot(ax=ax, facecolor=[0.9,0.8,0])\n",
    "#dest_cell.plot(ax=ax, facecolor=[0,0.7,0.7])\n",
    "orig_point.plot(ax=ax, color=[0,0,1])\n",
    "dest_point.plot(ax=ax, color=[1,0,0])\n",
    "\n",
    "edges_utm.plot(ax=ax, color=[0.8,0.8,0.8])\n",
    "routes.plot(ax=ax)\n",
    "#grid_centroids.plot(ax=ax, color=[0,0,0], markersize=1)"
   ]
  },
  {
   "cell_type": "code",
   "execution_count": null,
   "metadata": {},
   "outputs": [],
   "source": []
  }
 ],
 "metadata": {
  "kernelspec": {
   "display_name": "Python 3",
   "language": "python",
   "name": "python3"
  },
  "language_info": {
   "codemirror_mode": {
    "name": "ipython",
    "version": 3
   },
   "file_extension": ".py",
   "mimetype": "text/x-python",
   "name": "python",
   "nbconvert_exporter": "python",
   "pygments_lexer": "ipython3",
   "version": "3.8.6"
  }
 },
 "nbformat": 4,
 "nbformat_minor": 4
}
