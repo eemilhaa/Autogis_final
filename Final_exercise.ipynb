{
 "cells": [
  {
   "cell_type": "code",
   "execution_count": null,
   "metadata": {},
   "outputs": [],
   "source": [
    "# Imports\n",
    "import pandas as pd\n",
    "import geopandas as gpd\n",
    "from pyproj import CRS\n",
    "import matplotlib.pyplot as plt\n",
    "import contextily as ctx\n",
    "import osmnx as ox\n",
    "import networkx as nx\n",
    "from shapely.geometry import LineString, Point, Polygon, MultiPoint\n",
    "from shapely.ops import nearest_points\n",
    "from shapely.ops import unary_union\n",
    "from shapely import speedups\n",
    "from geopy.geocoders import Nominatim\n",
    "from geopandas.tools import geocode\n",
    "from geopy.extra.rate_limiter import RateLimiter\n",
    "\n",
    "%matplotlib inline"
   ]
  },
  {
   "cell_type": "markdown",
   "metadata": {},
   "source": [
    "## 1."
   ]
  },
  {
   "cell_type": "code",
   "execution_count": null,
   "metadata": {},
   "outputs": [],
   "source": [
    "epsg=3067"
   ]
  },
  {
   "cell_type": "code",
   "execution_count": null,
   "metadata": {},
   "outputs": [],
   "source": [
    "# Test addresses\n",
    "orig_address_input = 'Radiokuja 6, 00240, Helsinki, Finland'\n",
    "dest_address_input = 'Väinö Auerin katu 13, 00560, Helsinki, Finland'\n",
    "\n",
    "# Addresses with user input\n",
    "#orig_address_input = str(input('Lähtöosoite')+', Helsinki, Finland')\n",
    "#dest_address_input = str(input('Päämääräosoite')+', Helsinki, Finland')\n",
    "\n",
    "# Geocode addresses\n",
    "origin_point = geocode(orig_address_input, provider='nominatim', user_agent='autogis_EH', timeout=10)\n",
    "dest_point = geocode(dest_address_input, provider='nominatim', user_agent='autogis_EH', timeout=10)\n",
    "\n",
    "# Project to ETRS-TM35FIN\n",
    "orig_point = origin_point.to_crs(epsg=epsg)\n",
    "dest_point = dest_point.to_crs(epsg=epsg)"
   ]
  },
  {
   "cell_type": "code",
   "execution_count": null,
   "metadata": {},
   "outputs": [],
   "source": [
    "# Reading in the YKR grid\n",
    "fp_grid = r'data/YKR/MetropAccess_YKR_grid_EurefFIN.shp'\n",
    "grid = gpd.read_file(fp_grid)\n",
    "\n",
    "# Checking projections\n",
    "if grid.crs == orig_point.crs == dest_point.crs:\n",
    "    print('data is correctly projected')\n",
    "else:\n",
    "    print('projections do not match')"
   ]
  },
  {
   "cell_type": "code",
   "execution_count": null,
   "metadata": {},
   "outputs": [],
   "source": [
    "# Defining centroids for the YKR grid\n",
    "\n",
    "# Dataframe for centroids\n",
    "grid_centroids = gpd.GeoDataFrame()\n",
    "\n",
    "# Defining a centroid for every grid cell\n",
    "grid_centroids['geometry'] = gpd.points_from_xy(grid.x, grid.y)\n",
    "\n",
    "# Keeping the YKR_ID for data selection\n",
    "grid_centroids['YKR_ID'] = grid['YKR_ID']\n",
    "\n",
    "# Results\n",
    "grid_centroids.head()"
   ]
  },
  {
   "cell_type": "code",
   "execution_count": null,
   "metadata": {},
   "outputs": [],
   "source": [
    "# Function for getting the YKR_ID value of the nearest cell centroid\n",
    "def get_nearest_values(row, other_gdf, point_column='geometry', value_column='geometry'):\n",
    "    \"\"\"Find the nearest point and return the corresponding value from specified value column.\"\"\"\n",
    "    \n",
    "    # Create an union of the other GeoDataFrame's geometries:\n",
    "    other_points = other_gdf['geometry'].unary_union\n",
    "    \n",
    "    # Find the nearest points\n",
    "    nearest_geoms = nearest_points(row[point_column], other_points)\n",
    "    \n",
    "    # Get corresponding values from the other df\n",
    "    nearest_data = other_gdf.loc[other_gdf['geometry'] == nearest_geoms[1]]\n",
    "    \n",
    "    nearest_value = nearest_data[value_column].values[0]\n",
    "    \n",
    "    return nearest_value"
   ]
  },
  {
   "cell_type": "code",
   "execution_count": null,
   "metadata": {},
   "outputs": [],
   "source": [
    "# Applying the function \n",
    "\n",
    "# Finding closest centroid to orig_point \n",
    "orig_point['YKR_ID'] = orig_point.apply(\n",
    "    get_nearest_values,\n",
    "    other_gdf=grid_centroids,\n",
    "    point_column='geometry',\n",
    "    value_column='YKR_ID',\n",
    "    axis=1\n",
    ")\n",
    "\n",
    "# Finding closest centroid to dest_point\n",
    "dest_point['YKR_ID'] = dest_point.apply(\n",
    "    get_nearest_values,\n",
    "    other_gdf=grid_centroids,\n",
    "    point_column='geometry',\n",
    "    value_column='YKR_ID',\n",
    "    axis=1\n",
    ")\n",
    "\n",
    "orig_YKR = orig_point.loc[0, 'YKR_ID']\n",
    "dest_YKR = dest_point.loc[0, 'YKR_ID']\n",
    "print(dest_YKR, orig_YKR)"
   ]
  },
  {
   "cell_type": "code",
   "execution_count": null,
   "metadata": {},
   "outputs": [],
   "source": [
    "# Select data\n"
   ]
  },
  {
   "cell_type": "code",
   "execution_count": null,
   "metadata": {},
   "outputs": [],
   "source": [
    "# Cells to gdf\n",
    "orig_cell = gpd.GeoDataFrame()\n",
    "dest_cell = gpd.GeoDataFrame()\n",
    "\n",
    "orig_cell = grid.loc[grid['YKR_ID']==orig_YKR]\n",
    "dest_cell = grid.loc[grid['YKR_ID']==dest_YKR]"
   ]
  },
  {
   "cell_type": "code",
   "execution_count": null,
   "metadata": {},
   "outputs": [],
   "source": [
    "fig, ax = plt.subplots(figsize=(20,15))\n",
    "\n",
    "grid.plot(ax=ax, facecolor=[0.9,0.9,0.9], edgecolor=[0.7,0.7,0.7])\n",
    "orig_point.plot(ax=ax, color=[0,0,1])\n",
    "dest_point.plot(ax=ax, color=[1,0,0])\n",
    "orig_cell.plot(ax=ax, facecolor=[0.9,0.8,0])\n",
    "dest_cell.plot(ax=ax, facecolor=[0,0.7,0.7])\n",
    "#grid_centroids.plot(ax=ax, color=[0,0,0], markersize=1)"
   ]
  },
  {
   "cell_type": "code",
   "execution_count": null,
   "metadata": {},
   "outputs": [],
   "source": []
  }
 ],
 "metadata": {
  "kernelspec": {
   "display_name": "Python 3",
   "language": "python",
   "name": "python3"
  },
  "language_info": {
   "codemirror_mode": {
    "name": "ipython",
    "version": 3
   },
   "file_extension": ".py",
   "mimetype": "text/x-python",
   "name": "python",
   "nbconvert_exporter": "python",
   "pygments_lexer": "ipython3",
   "version": "3.8.6"
  }
 },
 "nbformat": 4,
 "nbformat_minor": 4
}
